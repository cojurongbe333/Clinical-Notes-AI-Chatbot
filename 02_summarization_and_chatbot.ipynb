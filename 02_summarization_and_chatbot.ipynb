{
  "cells": [
    {
      "cell_type": "markdown",
      "metadata": {},
      "source": [
        "# \ud83e\udd16 02 - Summarization & QA Chatbot with Transformers"
      ]
    },
    {
      "cell_type": "code",
      "execution_count": null,
      "metadata": {},
      "outputs": [],
      "source": [
        "import pandas as pd\n",
        "from transformers import pipeline\n",
        "import random"
      ]
    },
    {
      "cell_type": "markdown",
      "metadata": {},
      "source": [
        "## \ud83d\udce5 Load Data"
      ]
    },
    {
      "cell_type": "code",
      "execution_count": null,
      "metadata": {},
      "outputs": [],
      "source": [
        "df = pd.read_csv(\"../data/synthetic_clinical_notes.csv\")\n",
        "df = df.sample(5, random_state=42).reset_index(drop=True)\n",
        "df[['patient_id', 'note_text']].head()"
      ]
    },
    {
      "cell_type": "markdown",
      "metadata": {},
      "source": [
        "## \u2702\ufe0f Summarization with Transformers"
      ]
    },
    {
      "cell_type": "code",
      "execution_count": null,
      "metadata": {},
      "outputs": [],
      "source": [
        "summarizer = pipeline(\"summarization\", model=\"facebook/bart-large-cnn\")\n",
        "\n",
        "def summarize_note(note):\n",
        "    return summarizer(note[:1024], max_length=100, min_length=30, do_sample=False)[0]['summary_text']\n",
        "\n",
        "df['summary'] = df['note_text'].apply(summarize_note)\n",
        "df[['patient_id', 'summary']].head()"
      ]
    },
    {
      "cell_type": "markdown",
      "metadata": {},
      "source": [
        "## \ud83d\udcac Chatbot (Question Answering)"
      ]
    },
    {
      "cell_type": "code",
      "execution_count": null,
      "metadata": {},
      "outputs": [],
      "source": [
        "qa_pipeline = pipeline(\"question-answering\", model=\"distilbert-base-cased-distilled-squad\")\n",
        "\n",
        "# Test with a sample note\n",
        "context = df.loc[0, 'note_text']\n",
        "question = \"What is the treatment plan?\"\n",
        "\n",
        "answer = qa_pipeline(question=question, context=context)\n",
        "print(f\"Question: {question}\\nAnswer: {answer['answer']}\")"
      ]
    }
  ],
  "metadata": {
    "kernelspec": {
      "display_name": "Python 3",
      "language": "python",
      "name": "python3"
    },
    "language_info": {
      "name": "python",
      "version": "3.10"
    }
  },
  "nbformat": 4,
  "nbformat_minor": 5
}